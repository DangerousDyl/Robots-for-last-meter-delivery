{
 "cells": [
  {
   "cell_type": "markdown",
   "id": "66a724df-0cff-4579-a37e-9fcc9831179e",
   "metadata": {},
   "source": [
    "### Create SUMO Network and Run base command: "
   ]
  },
  {
   "cell_type": "code",
   "execution_count": 1,
   "id": "50f23a8a-9520-4a40-937b-ff439b079bf5",
   "metadata": {},
   "outputs": [],
   "source": [
    "import os"
   ]
  },
  {
   "cell_type": "code",
   "execution_count": 3,
   "id": "e538b40c-754e-4acf-bd9d-5bbfbbc44789",
   "metadata": {},
   "outputs": [],
   "source": [
    "## open up a network to download"
   ]
  },
  {
   "cell_type": "code",
   "execution_count": 2,
   "id": "a7f9ca9a-39e3-4f31-a5e1-162d755d507a",
   "metadata": {},
   "outputs": [
    {
     "data": {
      "text/plain": [
       "'/Users/dylanjohnson'"
      ]
     },
     "execution_count": 2,
     "metadata": {},
     "output_type": "execute_result"
    }
   ],
   "source": [
    "path_home = '/Users/dylanjohnson/'\n",
    "os.chdir(path_home)\n",
    "os.getcwd()"
   ]
  },
  {
   "cell_type": "code",
   "execution_count": 3,
   "id": "c57e6232-e8d4-4e6d-9e20-730e2e29a142",
   "metadata": {},
   "outputs": [],
   "source": [
    "path_randomTrips = '~/sumo/tools/'\n",
    "path_netconvert = '/opt/homebrew/bin/netconvert'\n",
    "network_input = '~/Documents/robotics/sumo/network/map.osm'\n",
    "network_output = '~/Documents/robotics/sumo/network/map.net.xml'"
   ]
  },
  {
   "cell_type": "markdown",
   "id": "8abdb5d4-e4c5-41f6-9b66-acd853510de6",
   "metadata": {
    "tags": []
   },
   "source": [
    "##### Convert network from .osm file to .net\n",
    "- Netconvert documentation \n",
    "- \"netconvert --osm-files <FILE> -0 the generated net will be written to FILE\""
   ]
  },
  {
   "cell_type": "code",
   "execution_count": 14,
   "id": "7fea29ab-b78b-45ce-bd21-8eeb690bd527",
   "metadata": {},
   "outputs": [
    {
     "name": "stdout",
     "output_type": "stream",
     "text": [
      "netconvert --osm-files ~/Documents/robotics/sumo/network/map.osm -o ~/Documents/robotics/sumo/network/map.net.xml--geometry.remove --ramps.guess --junctions.join --tls.guess-signals --tls.discard-simple --tls.join --output.street-names true --tls.default-type actuated --lefthand\n"
     ]
    }
   ],
   "source": [
    "netconvert = \"netconvert --osm-files \" +network_input + \" -o \" + network_output + \"--geometry.remove --ramps.guess --junctions.join --tls.guess-signals --tls.discard-simple --tls.join --output.street-names true --tls.default-type actuated --lefthand\"\n",
    "print(netconvert)"
   ]
  },
  {
   "cell_type": "code",
   "execution_count": 15,
   "id": "4167c20d-a962-43f4-9eee-649e826256de",
   "metadata": {},
   "outputs": [
    {
     "name": "stdout",
     "output_type": "stream",
     "text": [
      "Success.\n"
     ]
    },
    {
     "name": "stderr",
     "output_type": "stream",
     "text": [
      "Warning: Discarding unknown compound 'cycleway.lane' in type 'cycleway.lane|highway.secondary' (first occurence for edge '4340904').\n",
      "Warning: Discarding unknown compound 'cycleway.lane' in type 'cycleway.lane|cycleway.share_busway|highway.primary' (first occurence for edge '100514387').\n",
      "Warning: Discarding unknown compound 'cycleway.share_busway' in type 'cycleway.lane|cycleway.share_busway|highway.primary' (first occurence for edge '100514387').\n",
      "Warning: Discarding unknown compound 'cycleway.lane' in type 'cycleway.lane|cycleway.lane|highway.primary' (first occurence for edge '166594097').\n",
      "Warning: Discarding unknown compound 'cycleway.lane' in type 'cycleway.lane|cycleway.lane|highway.primary' (first occurence for edge '166594097').\n",
      "Warning: No way found for reference '10879272' in relation '2710076'\n",
      "Warning: No way found for reference '201757213' in relation '2710076'\n",
      "Warning: Ignoring restriction relation '2710076' with unknown from-way.\n",
      "Warning: Ignoring restriction relation '2710076' with unknown to-way.\n",
      "Warning: Not joining junctions 18691639,25471907 (only 1 entry node).\n",
      "Warning: Reducing junction cluster 25438575,25438609,25438655 (parallel incoming -166594099#0,560891304).\n",
      "Warning: Not joining junctions 25438630,25438730 (parallel incoming 4252521#0,835256184).\n",
      "Warning: Ambiguity in turnarounds computation at junction 'cluster_1153946250_6329555505'.\n",
      "Warning: Ambiguity in turnarounds computation at junction 'cluster_1153946278_5360000869_6329555498'.\n",
      "Warning: Found sharp turn with radius 8.73 at the start of edge '-4253530#1'.\n",
      "Warning: Found sharp turn with radius 8.65 at the start of edge '-4352312#0'.\n",
      "Warning: Found sharp turn with radius 8.20 at the start of edge '-75031746'.\n",
      "Warning: Found sharp turn with radius 6.33 at the end of edge '-75031746'.\n",
      "Warning: Found sharp turn with radius 6.84 at the end of edge '-75031768'.\n",
      "Warning: Found angle of 105.75 degrees at edge '-98988857', segment 3.\n",
      "Warning: Found sharp turn with radius 8.65 at the end of edge '4352312#0'.\n",
      "Warning: Found sharp turn with radius 7.31 at the start of edge '671312526'.\n",
      "Warning: Found sharp turn with radius 7.55 at the end of edge '675863900#4'.\n",
      "Warning: Found sharp turn with radius 6.33 at the start of edge '75031746'.\n",
      "Warning: Found sharp turn with radius 8.20 at the end of edge '75031746'.\n",
      "Warning: Found angle of 105.75 degrees at edge '98988857', segment 1.\n",
      "Warning: 9 total messages of type: Discarding unknown compound '%' in type '%' (first occurence for edge '%').\n",
      "Warning: 7 total messages of type: Found sharp turn with radius % at the start of edge '%'.\n"
     ]
    },
    {
     "data": {
      "text/plain": [
       "0"
      ]
     },
     "execution_count": 15,
     "metadata": {},
     "output_type": "execute_result"
    }
   ],
   "source": [
    "os.system(netconvert)"
   ]
  },
  {
   "cell_type": "code",
   "execution_count": 13,
   "id": "dab93a9b-74ad-4946-a053-235ad67a05c0",
   "metadata": {},
   "outputs": [
    {
     "name": "stderr",
     "output_type": "stream",
     "text": [
      "The file /Users/dylanjohnson/netedit does not exist.\n"
     ]
    },
    {
     "data": {
      "text/plain": [
       "256"
      ]
     },
     "execution_count": 13,
     "metadata": {},
     "output_type": "execute_result"
    }
   ],
   "source": [
    "os.system(\"open netedit\")"
   ]
  },
  {
   "cell_type": "markdown",
   "id": "cf9f6cf9-2f2c-445a-8aaf-0a79959faeee",
   "metadata": {},
   "source": [
    "#### Create Congestion\n",
    "\"randomTrips.py\" generates a set of random trips for a given network (option -n). It does so by choosing source and destination edge either uniformly at random or with a modified distribution as described below. The resulting trips are stored in an XML file (option -o, default trips.trips.xml) suitable for duarouter which is called automatically if the option (with a filename for the resulting route file) is given. The trips are distributed evenly in an interval defined by begin (option -b, default 0) and end time (option -e, default 3600) in seconds. The number of trips is defined by the repetition rate (option -p, default 1) in seconds. Every trip has an id consisting of a prefix (option --prefix, default \"\") and a running number. \n",
    "Source(https://sumo.dlr.de/docs/Tools/Trip.html)\n",
    "\n"
   ]
  },
  {
   "cell_type": "code",
   "execution_count": 6,
   "id": "4c03f053-7d90-4f02-90ab-d0cda2ef9857",
   "metadata": {},
   "outputs": [],
   "source": [
    "repetition_rate = 2 \n",
    "end_time = 2400\n",
    "congestion_output = \"congestion_robots.trips.xml\""
   ]
  },
  {
   "cell_type": "code",
   "execution_count": 7,
   "id": "40bf9ebd-682e-4fd8-ac14-2cb33c28fd84",
   "metadata": {},
   "outputs": [],
   "source": [
    "congestion = \"python \" +  path_randomTrips + \"/randomTrips.py\" + \" -n \" + network_output + \" -p \" + str(repetition_rate) + \" -e \" + str(end_time) + \" -o \" + congestion_output + \" --validate\""
   ]
  },
  {
   "cell_type": "code",
   "execution_count": 3,
   "id": "8b9d7738-51e1-438a-8616-39f15ec5101e",
   "metadata": {},
   "outputs": [],
   "source": [
    "def iterable_config(config_file):   \n",
    "    \"\"\"\n",
    "    Inputs:  file type (string)\n",
    "    Outputs: file names (list)\n",
    "    \"\"\"   \n",
    "    files = []\n",
    "    demand = \"demand_\"\n",
    "    for i in list(range(15,46,10)):                               #For each element in (15,25,35,45), \n",
    "        files.append(demand + str(i) + config_file)               #concatinate the list files with \"Demand\" + each of these elements + the input file type \n",
    "    return files\n",
    "config_files = iterable_config(config_file = \"/robots.sumocfg\") "
   ]
  },
  {
   "cell_type": "code",
   "execution_count": 4,
   "id": "57c67915-9e4c-4091-b9c4-6a9f672f445c",
   "metadata": {},
   "outputs": [
    {
     "data": {
      "text/plain": [
       "['demand_15/robots.sumocfg',\n",
       " 'demand_25/robots.sumocfg',\n",
       " 'demand_35/robots.sumocfg',\n",
       " 'demand_45/robots.sumocfg']"
      ]
     },
     "execution_count": 4,
     "metadata": {},
     "output_type": "execute_result"
    }
   ],
   "source": [
    "config_files"
   ]
  },
  {
   "cell_type": "code",
   "execution_count": 8,
   "id": "18b05934-9584-4a68-b123-116853e69f5d",
   "metadata": {},
   "outputs": [],
   "source": [
    "def iterable(file_type):\n",
    "    \"\"\"\n",
    "    Inputs: File type (string)\n",
    "    Outputs: file names (list)\n",
    "    \"\"\"   \n",
    "    demand = \"demand_\"\n",
    "    letters = [\"A\", \"B\", \"C\", \"D\"]\n",
    "    files = []\n",
    "    for i,j in zip(list(range(15,46,10)), letters):\n",
    "        files.append(demand + str(i) + \"/\" + j + file_type)\n",
    "    return files\n",
    "\n",
    "demand_files = iterable(file_type = \".csv\")\n",
    "xml_files = iterable(file_type = \".xml\")"
   ]
  },
  {
   "cell_type": "code",
   "execution_count": 9,
   "id": "34cb79e6-2b23-41c4-b698-f603ce00edf7",
   "metadata": {},
   "outputs": [
    {
     "name": "stdout",
     "output_type": "stream",
     "text": [
      "Here are our files that we will be using:\n",
      "['demand_15/robots.sumocfg', 'demand_25/robots.sumocfg', 'demand_35/robots.sumocfg', 'demand_45/robots.sumocfg']\n",
      "['demand_15/A.csv', 'demand_25/B.csv', 'demand_35/C.csv', 'demand_45/D.csv']\n",
      "['demand_15/A.xml', 'demand_25/B.xml', 'demand_35/C.xml', 'demand_45/D.xml']\n"
     ]
    }
   ],
   "source": [
    "print(\"Here are our files that we will be using:\")\n",
    "print(config_files)\n",
    "print(demand_files)\n",
    "print(xml_files)"
   ]
  },
  {
   "cell_type": "markdown",
   "id": "bce56d75-e4ee-4d83-8669-8441b324b9d2",
   "metadata": {},
   "source": [
    "##### Defining paths and variables"
   ]
  },
  {
   "cell_type": "code",
   "execution_count": 10,
   "id": "f8fe7a31-8f37-40d5-8583-769e081a17e2",
   "metadata": {},
   "outputs": [],
   "source": [
    "scenario = [\"robot_CVRP\", \"robot_CVRPTW\", \"multiple_robot\", \n",
    "            \"robot_none\"]\n",
    "sum_tripinfo = []\n",
    "myvars = [\"tripinfo_duration\", \"tripinfo_timeLoss\", \"tripinfo_waitingTime\"]\n",
    "xml_csv = \"~/Sumo/tools/xml/xml2csv.py\"\n",
    "datasets = []\n",
    "com = []\n",
    "plsep =\"/\""
   ]
  },
  {
   "cell_type": "markdown",
   "id": "b26b1ff4-0a45-4ce4-b17e-a402d210c83c",
   "metadata": {},
   "source": [
    "##### Run simulations in sumo"
   ]
  },
  {
   "cell_type": "code",
   "execution_count": null,
   "id": "e39b32f8-a6ce-44ea-8626-3c623418e983",
   "metadata": {},
   "outputs": [],
   "source": [
    "for i in scenario:\n",
    "    for j in config_files:\n",
    "        datasets.append(\"sumo -c \" + '\"' + i + plsep + j + '\"' + \" --device.emissions.probability 1.0\")\n",
    "for k in datasets:\n",
    "    print(k)"
   ]
  },
  {
   "cell_type": "code",
   "execution_count": null,
   "id": "5713f141-77bb-4e57-9747-4d410723ba8e",
   "metadata": {},
   "outputs": [],
   "source": [
    "## Run functions from the system:\n",
    "for z in combined:\n",
    "    os.system(z)"
   ]
  }
 ],
 "metadata": {
  "kernelspec": {
   "display_name": "graphs",
   "language": "python",
   "name": "graphs"
  },
  "language_info": {
   "codemirror_mode": {
    "name": "ipython",
    "version": 3
   },
   "file_extension": ".py",
   "mimetype": "text/x-python",
   "name": "python",
   "nbconvert_exporter": "python",
   "pygments_lexer": "ipython3",
   "version": "3.9.12"
  }
 },
 "nbformat": 4,
 "nbformat_minor": 5
}
